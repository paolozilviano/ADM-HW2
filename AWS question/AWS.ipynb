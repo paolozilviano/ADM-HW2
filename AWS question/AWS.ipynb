{
 "cells": [
  {
   "cell_type": "markdown",
   "metadata": {},
   "source": [
    "# AWS Question (AWSQ)\n",
    "AWS offers access to many cloud-based tools and services that simplify data processing, storage, and analysis. Thanks to AWS's scalable and affordable solutions, data scientists can work effectively with large datasets and carry out advanced analytics. A data scientist must, therefore, perform the essential task of learning how to use AWS. To complete a straightforward data analysis task in this question, you must set up an environment on Amazon Web Services. \n",
    "\n",
    "In this question, you are asked to provide the most commonly used tags for book lists. Going through the [__list.json__](https://www.kaggle.com/datasets/opalskies/large-books-metadata-dataset-50-mill-entries) file, you'll notice that each list has a list of tags attached, and we want to see what are the <ins>most popular tags</ins> across all of the lists. Please report the __top 5__ most frequently used tags and the number of times they appear in the lists.\n",
    "\n",
    "You have to follow the following (recommended) steps:  \n",
    "- Download the *list.json* file to your local system. \n",
    "- Write a Python script that generates the report and the system's time to generate it.\n",
    "- Set up an EC2 instance on your AWS account and upload the list.json file together with your script to the instance\n",
    "- Compare the running times of your script on your local system and the EC2 instances.\n",
    "\n",
    "__Important note__: Please run the __same script__ on both your local system and your EC2 instance to compare the results. e.g., keep the parameters the same if you are processing the data by loading it partially and aggregating the results. Comment about the differences you find.\n",
    "\n",
    "Please provide a report as follows: \n",
    "- The information about the config of the EC2 instance \n",
    "- The command used to connect to the EC2 \n",
    "- The commands used to upload the files and run the script on the EC2 instance through your local system \n",
    "- A table containing the most popular tags and their number of usage\n",
    "- A table containing the running time of the script on your local system and EC2 instance\n",
    "  \n",
    "The following is the expected outcome for the most popular tags:\n",
    "|tag|#usage|\n",
    "|---|---|\n",
    "|romance|6001|\n",
    "|fiction|5291|\n",
    "|young-adult|5016|\n",
    "|fantasy|3666|\n",
    "|science-fiction|2779|"
   ]
  },
  {
   "cell_type": "markdown",
   "metadata": {},
   "source": [
    "# REPORT\n",
    "\n",
    "**- The information about the config of the EC2 instance:**\n",
    "\t\n",
    "We started an EC2 instance with these configurations:\n",
    "AMI (Amazon Machine Image): UBUNTU\n",
    "Type of instance: t2.large since it has 8GB RAM which is fine for loading json file\n",
    "Rest of configurations are default.\n",
    "\n",
    "**- The command used to connect to the EC2:**\n",
    "\n",
    "From the terminal we go to the directory containing our .pem file, we changed permission with this command:\n",
    "\n",
    "Chmod 0600 AWS_HW2.pem\n",
    "\n",
    "Then we used this command in order to connect to the EC2 instance via ssh:\n",
    "\n",
    "ssh -i \"AWS_HW2.pem\" ubuntu@ec2-54-159-26-72.compute-1.amazonaws.com\n",
    "\n",
    "where AWS_HW2.pem is the key to access and 54.159.26.72 is the public IP of the instance\n",
    "\n",
    "**- The commands used to upload the files and run the script on the EC2 instance through your local system:**\n",
    "\n",
    "We uploaded the file into an S3 bucket instance, which is an object storage service that stores data as objects within buckets, by dragging the files \"list.json\" and \"tags.py\" (the python script) in the specific area.\n",
    "In order to copy the files from the S3 bucket to our EC2 instances we used this command line:\n",
    "\n",
    "cp s3://awsadmhw2/list.json HW2\n",
    "\n",
    "Where \"s3://awsadmhw2/list.json\" is the path for our list.json file and HW2 is a directory created in our EC2 instance (same goes for tags.py).\n",
    "\n",
    "After installing the needed modules we ran the file with:\n",
    "\n",
    "Python3 tags.py\n",
    "\n",
    "**- A table containing the most popular tags and their number of usage:**\n",
    "\n",
    "\n",
    "|tag|#usage|\n",
    "|---|---|\n",
    "|romance|6001|\n",
    "|fiction|5291|\n",
    "|young-adult|5016|\n",
    "|fantasy|3666|\n",
    "|science-fiction|2779|\n",
    "\n",
    "**- A table containing the running time of the script on your local system and EC2 instance:**\n",
    "\n",
    "|Script|Running time in seconds|\n",
    "|---|---|\n",
    "|Local system|99.22|\n",
    "|EC2 Instance |38.99|"
   ]
  },
  {
   "cell_type": "markdown",
   "metadata": {},
   "source": [
    "#### Script"
   ]
  },
  {
   "cell_type": "code",
   "execution_count": null,
   "metadata": {},
   "outputs": [],
   "source": [
    "import pandas as pd\n",
    "import json\n",
    "import time\n",
    "\n",
    "start_time = time.time()\n",
    "\n",
    "chunksize = 10000\n",
    "chunk_list = []\n",
    "\n",
    "json_data = []\n",
    "\n",
    "with open('list.json', 'r') as file:\n",
    "    for line in file:\n",
    "        try:\n",
    "            data = json.loads(line)\n",
    "            json_data.append(data)\n",
    "        except json.JSONDecodeError:\n",
    "            pass\n",
    "\n",
    "list_df = pd.DataFrame(json_data)\n",
    "\n",
    "# inizialize a dictionary\n",
    "tags = {}\n",
    "\n",
    "for tag in list_df['tags']:\n",
    "    \n",
    "    # avoid \"nan\"\n",
    "    if type(tag) is not float:\n",
    "\n",
    "        # iterate through list\n",
    "        for t in tag:\n",
    "        \n",
    "            # if tag in dictionary increment the value (occurence) else set it to 1\n",
    "            if t in tags:\n",
    "                tags[t]+=1\n",
    "            else:\n",
    "                tags[t]=1\n",
    "\n",
    "# sort the dict to get the 5 most common\n",
    "tags = dict(sorted(tags.items(), key=lambda x: x[1], reverse=True))\n",
    "\n",
    "tags_df  = pd.DataFrame({\"tags\": tags.keys(), \"#usage\": tags.values()})\n",
    "print(tags_df.head(5))\n",
    "\n",
    "end_time = time.time()\n",
    "execution_time = (end_time - start_time)\n",
    "\n",
    "print(f\"Time passed: {round(execution_time, 2)} seconds\")"
   ]
  },
  {
   "cell_type": "markdown",
   "metadata": {},
   "source": [
    "#### Output local machine"
   ]
  },
  {
   "cell_type": "markdown",
   "metadata": {},
   "source": [
    "![output local Machine.png](./output_local_Machine.png)"
   ]
  },
  {
   "cell_type": "markdown",
   "metadata": {},
   "source": [
    "#### Ouput EC2 Instance"
   ]
  },
  {
   "cell_type": "markdown",
   "metadata": {},
   "source": [
    "![output EC2.png](output_EC2.png)"
   ]
  }
 ],
 "metadata": {
  "language_info": {
   "name": "python"
  }
 },
 "nbformat": 4,
 "nbformat_minor": 2
}
